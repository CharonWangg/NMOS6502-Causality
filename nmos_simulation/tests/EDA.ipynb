{
 "cells": [
  {
   "cell_type": "code",
   "execution_count": 5,
   "metadata": {
    "collapsed": true
   },
   "outputs": [
    {
     "name": "stdout",
     "output_type": "stream",
     "text": [
      "Populating the interactive namespace from numpy and matplotlib\n"
     ]
    }
   ],
   "source": [
    "import numpy as np\n",
    "import matplotlib.pyplot as plt\n",
    "from scipy.signal import find_peaks\n",
    "%pylab inline"
   ]
  },
  {
   "cell_type": "code",
   "execution_count": 50,
   "outputs": [],
   "source": [
    "# helper function\n",
    "\n",
    "def spikize(seq):\n",
    "    # find peaks\n",
    "    spike = np.zeros_like(seq)\n",
    "    spike[find_peaks(seq)[0]] = 1\n",
    "    return spike\n",
    "\n",
    "def diff_clip(seq):\n",
    "    # do difference and clip to reconstruct the data format in the paper\n",
    "    return np.clip(np.diff(seq,n=1),0,1)\n"
   ],
   "metadata": {
    "collapsed": false,
    "pycharm": {
     "name": "#%%\n"
    }
   }
  },
  {
   "cell_type": "code",
   "execution_count": 34,
   "outputs": [],
   "source": [
    "data = np.load('./DonkeyKong/original_3510_512.npy', mmap_mode='r')"
   ],
   "metadata": {
    "collapsed": false,
    "pycharm": {
     "name": "#%%\n"
    }
   }
  },
  {
   "cell_type": "code",
   "execution_count": 58,
   "outputs": [
    {
     "data": {
      "text/plain": "[<matplotlib.lines.Line2D at 0x7fe421df7ac0>]"
     },
     "execution_count": 58,
     "metadata": {},
     "output_type": "execute_result"
    },
    {
     "data": {
      "text/plain": "<Figure size 432x288 with 5 Axes>",
      "image/png": "[encoded data removed]"
     },
     "metadata": {
      "needs_background": "light"
     },
     "output_type": "display_data"
    }
   ],
   "source": [
    "# transistor 362 (gate)\n",
    "plt.subplot(611)\n",
    "plt.plot(diff_clip(data[0])[30:45])\n",
    "\n",
    "# transistor 1999 (gate)\n",
    "plt.subplot(612)\n",
    "plt.plot(data[1999][10:20])\n",
    "\n",
    "# transistor 2558 (c1)\n",
    "plt.subplot(613)\n",
    "plt.plot(data[2558][10:20])\n",
    "\n",
    "# transistor 452 (c2)\n",
    "plt.subplot(614)\n",
    "plt.plot(diff_clip(data[2673])[30:45])\n",
    "\n",
    "# transistor 453 (c2)\n",
    "plt.subplot(615)\n",
    "plt.plot(diff_clip(data[453])[10:20])"
   ],
   "metadata": {
    "collapsed": false,
    "pycharm": {
     "name": "#%%\n"
    }
   }
  },
  {
   "cell_type": "markdown",
   "source": [
    "# Sanity check"
   ],
   "metadata": {
    "collapsed": false
   }
  },
  {
   "cell_type": "code",
   "execution_count": 1,
   "outputs": [],
   "source": [
    "import numpy as np"
   ],
   "metadata": {
    "collapsed": false,
    "pycharm": {
     "name": "#%%\n"
    }
   }
  },
  {
   "cell_type": "code",
   "execution_count": 40,
   "outputs": [],
   "source": [
    "causal = np.load(\"causality_3510_512.npy\")\n",
    "orig = np.load(\"original_3510_512_test.npy\")"
   ],
   "metadata": {
    "collapsed": false,
    "pycharm": {
     "name": "#%%\n"
    }
   }
  },
  {
   "cell_type": "code",
   "execution_count": 4,
   "outputs": [
    {
     "data": {
      "text/plain": "(array([   0,    0,    0, ..., 3506, 3506, 3506]),\n array([   0,    0,    0, ..., 3506, 3506, 3506]),\n array([ 36,  37,  38, ..., 504, 505, 506]))"
     },
     "execution_count": 4,
     "metadata": {},
     "output_type": "execute_result"
    }
   ],
   "source": [
    "np.where(causal==-1)"
   ],
   "metadata": {
    "collapsed": false,
    "pycharm": {
     "name": "#%%\n"
    }
   }
  },
  {
   "cell_type": "code",
   "execution_count": 8,
   "outputs": [],
   "source": [
    "causal = np.where(causal==255, -1, causal)"
   ],
   "metadata": {
    "collapsed": false,
    "pycharm": {
     "name": "#%%\n"
    }
   }
  },
  {
   "cell_type": "code",
   "execution_count": 9,
   "outputs": [
    {
     "name": "stdout",
     "output_type": "stream",
     "text": [
      "(3510, 3510, 512)\n",
      "(3510, 512)\n"
     ]
    }
   ],
   "source": [
    "print(causal.shape)\n",
    "print(orig.shape)"
   ],
   "metadata": {
    "collapsed": false,
    "pycharm": {
     "name": "#%%\n"
    }
   }
  },
  {
   "cell_type": "markdown",
   "source": [
    "## Post-cause analysis"
   ],
   "metadata": {
    "collapsed": false
   }
  },
  {
   "cell_type": "code",
   "execution_count": 11,
   "outputs": [],
   "source": [
    "import numpy as np\n",
    "# original data\n",
    "game = \"DonkeyKong\"\n",
    "orig = np.load(f\"./project/nmos_simulation/tests/{game}/original_3510_512.npy\", mmap_mode='r')\n",
    "causal = np.load(f\"./project/nmos_simulation/tests/causality_3510_512.npy\", mmap_mode='r')\n",
    "high = np.load(f\"./project/nmos_simulation/tests/{game}/high_3510_512.npy\", mmap_mode='r')\n",
    "low = np.load(f\"./project/nmos_simulation/tests/{game}/low_3510_512.npy\", mmap_mode='r')\n",
    "causal = np.where(causal==255, -1, causal)"
   ],
   "metadata": {
    "collapsed": false,
    "pycharm": {
     "name": "#%%\n"
    }
   }
  },
  {
   "cell_type": "code",
   "execution_count": 14,
   "outputs": [
    {
     "data": {
      "text/plain": "[<matplotlib.lines.Line2D at 0x7f33750d84c0>]"
     },
     "execution_count": 14,
     "metadata": {},
     "output_type": "execute_result"
    },
    {
     "data": {
      "text/plain": "<Figure size 432x288 with 3 Axes>",
      "image/png": "[encoded data removed]"
     },
     "metadata": {
      "needs_background": "light"
     },
     "output_type": "display_data"
    }
   ],
   "source": [
    "# find the start point where the original series is not 1\n",
    "t_div = np.where(orig[0]!=1)[0][0]-1\n",
    "t1 = 0\n",
    "t2 = 12\n",
    "length = 100\n",
    "plt.figure()\n",
    "plt.subplot(311)\n",
    "plt.plot(orig[t1][t_div:t_div+length])\n",
    "plt.plot(np.ones_like(orig[t1][t_div:t_div+length]), linestyle='--', color=\"red\")\n",
    "plt.subplot(312)\n",
    "plt.plot(high[t1][t2][t_div:t_div+length])\n",
    "plt.subplot(313)\n",
    "plt.plot(orig[t2][t_div:t_div+length])"
   ],
   "metadata": {
    "collapsed": false,
    "pycharm": {
     "name": "#%%\n"
    }
   }
  },
  {
   "cell_type": "code",
   "execution_count": 19,
   "outputs": [
    {
     "data": {
      "text/plain": "[<matplotlib.lines.Line2D at 0x7f3374b0c640>]"
     },
     "execution_count": 19,
     "metadata": {},
     "output_type": "execute_result"
    },
    {
     "data": {
      "text/plain": "<Figure size 432x288 with 4 Axes>",
      "image/png": "[encoded data removed]"
     },
     "metadata": {
      "needs_background": "light"
     },
     "output_type": "display_data"
    }
   ],
   "source": [
    "# find the start point where the original series is not 1\n",
    "t_div = np.where(orig[0]!=1)[0][0]-1\n",
    "t1 = 3057\n",
    "t2 = 1647\n",
    "length = 100\n",
    "plt.figure()\n",
    "plt.subplot(411)\n",
    "plt.plot(orig[t1][t_div:t_div+length])\n",
    "plt.plot(np.ones_like(orig[t1][t_div:t_div+length]), linestyle='--', color=\"red\")\n",
    "plt.subplot(412)\n",
    "plt.plot(high[t1][t2][t_div:t_div+length])\n",
    "plt.subplot(413)\n",
    "plt.plot(orig[t2][t_div:t_div+length])\n",
    "plt.subplot(414)\n",
    "plt.plot(causal[t1][t2][t_div:t_div+length])"
   ],
   "metadata": {
    "collapsed": false,
    "pycharm": {
     "name": "#%%\n"
    }
   }
  },
  {
   "cell_type": "code",
   "execution_count": 34,
   "outputs": [
    {
     "name": "stderr",
     "output_type": "stream",
     "text": [
      "100%|████████████████████████████████████████████████████████████████████████████████████████████████████| 3510/3510 [00:03<00:00, 1007.99it/s]\n"
     ]
    }
   ],
   "source": [
    "# calculate the effect of causal effect when turn high and turn low\n",
    "# DEPRECATED version, use the new version in the make_effect_label.py\n",
    "from tqdm import tqdm\n",
    "causal = []\n",
    "for i in tqdm(range(orig.shape[0])):\n",
    "    if (orig[i]==1).all():\n",
    "        # all 1, so turn low\n",
    "        causal.append(low[i] - orig)\n",
    "    elif (orig[i]==0).all():\n",
    "        # all 0, so turn high\n",
    "        causal.append(high[i] - orig)\n",
    "    else:\n",
    "        causal.append(high[i] - orig)\n",
    "causal =  np.stack(causal)\n",
    "causal = np.where(causal==255, -1, causal)\n",
    "causal.shape\n",
    "np.save(\"./project/nmos_inference/data_v4/causality_effect_512.npy\", causal)"
   ],
   "metadata": {
    "collapsed": false,
    "pycharm": {
     "name": "#%%\n"
    }
   }
  },
  {
   "cell_type": "markdown",
   "source": [
    "## Make Label\n"
   ],
   "metadata": {
    "collapsed": false
   }
  },
  {
   "cell_type": "code",
   "execution_count": 23,
   "outputs": [
    {
     "name": "stderr",
     "output_type": "stream",
     "text": [
      "100%|██████████████████████████████████████████████████████████████████████████████████████████████████████| 3510/3510 [00:37<00:00, 92.45it/s]\n"
     ]
    }
   ],
   "source": [
    "# convert causal to causality label\n",
    "# DEPRECATED version, use the new version in the make_effect_label.py\n",
    "causal_label = [[1 if (causal[i, j]!=0).any() else 0 for j in range(causal.shape[1])]\n",
    "                                                     for i in tqdm(range(causal.shape[0]))]\n",
    "causal_label = np.stack(causal_label)"
   ],
   "metadata": {
    "collapsed": false,
    "pycharm": {
     "name": "#%%\n"
    }
   }
  },
  {
   "cell_type": "code",
   "execution_count": 38,
   "outputs": [
    {
     "name": "stderr",
     "output_type": "stream",
     "text": [
      "100%|█████████████████████████████████████████████████████████████████████████████████████████████████████| 3510/3510 [00:21<00:00, 162.87it/s]\n"
     ]
    },
    {
     "data": {
      "text/plain": "(3510, 3510)"
     },
     "execution_count": 38,
     "metadata": {},
     "output_type": "execute_result"
    }
   ],
   "source": [
    "# convert causal to causality label based on only half clock from divergence point\n",
    "causal_1c_label = []\n",
    "for i in tqdm(range(causal.shape[0])):\n",
    "    temp = []\n",
    "    if (orig[i]==1).all():\n",
    "        # become low at start\n",
    "        t_div = 0\n",
    "    elif (orig[i]==0).all():\n",
    "        # become high at start\n",
    "        t_div = 0\n",
    "    else:\n",
    "        t_div = np.where(orig[i]!=1)[0][0]\n",
    "    for j in range(causal.shape[1]):\n",
    "        if i == j:\n",
    "            temp.append(0)\n",
    "        else:\n",
    "            if causal[i, j, t_div] != 0:\n",
    "                temp.append(1)\n",
    "            else:\n",
    "                temp.append(0)\n",
    "    causal_1c_label.append(temp)\n",
    "causal_1c_label = np.stack(causal_1c_label)\n",
    "causal_1c_label.shape"
   ],
   "metadata": {
    "collapsed": false,
    "pycharm": {
     "name": "#%%\n"
    }
   }
  },
  {
   "cell_type": "code",
   "execution_count": 39,
   "outputs": [
    {
     "name": "stdout",
     "output_type": "stream",
     "text": [
      "positive labels: 100469\n",
      "negative labels: 12219631\n"
     ]
    }
   ],
   "source": [
    "# calculate the positive and negative labels\n",
    "print(\"positive labels: {}\".format(sum(sum(causal_1c_label==1))))\n",
    "print(\"negative labels: {}\".format(sum(sum(causal_1c_label==0))))\n",
    "np.save(\"./project/nmos_inference/data_v4/causal_1c_label.npy\", causal_1c_label)"
   ],
   "metadata": {
    "collapsed": false,
    "pycharm": {
     "name": "#%%\n"
    }
   }
  },
  {
   "cell_type": "code",
   "execution_count": 40,
   "outputs": [
    {
     "data": {
      "text/plain": "(array([   6,  123,  395,  419, 1217, 1526, 1527, 1696, 1707, 2008, 2256,\n        2668, 2673, 2819, 3135]),)"
     },
     "execution_count": 40,
     "metadata": {},
     "output_type": "execute_result"
    }
   ],
   "source": [
    "np.where(causal_1c_label[0]==1)"
   ],
   "metadata": {
    "collapsed": false,
    "pycharm": {
     "name": "#%%\n"
    }
   }
  }
 ],
 "metadata": {
  "kernelspec": {
   "display_name": "Python 3 (ipykernel)",
   "language": "python",
   "name": "python3"
  },
  "language_info": {
   "codemirror_mode": {
    "name": "ipython",
    "version": 3
   },
   "file_extension": ".py",
   "mimetype": "text/x-python",
   "name": "python",
   "nbconvert_exporter": "python",
   "pygments_lexer": "ipython3",
   "version": "3.8.12"
  }
 },
 "nbformat": 4,
 "nbformat_minor": 1
}